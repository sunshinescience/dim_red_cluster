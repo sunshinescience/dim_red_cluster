{
 "cells": [
  {
   "cell_type": "code",
   "execution_count": 1,
   "metadata": {},
   "outputs": [],
   "source": [
    "import numpy as np"
   ]
  },
  {
   "cell_type": "code",
   "execution_count": 9,
   "metadata": {},
   "outputs": [
    {
     "data": {
      "text/plain": [
       "array([0, 1, 2, 3, 4, 5, 0, 7])"
      ]
     },
     "execution_count": 9,
     "metadata": {},
     "output_type": "execute_result"
    }
   ],
   "source": [
    "a = np.arange(8)\n",
    "b = np.arange(8)\n",
    "b[6] = 0\n",
    "a\n",
    "b"
   ]
  },
  {
   "cell_type": "code",
   "execution_count": 10,
   "metadata": {},
   "outputs": [
    {
     "data": {
      "text/plain": [
       "array([ True,  True,  True,  True,  True,  True, False,  True])"
      ]
     },
     "execution_count": 10,
     "metadata": {},
     "output_type": "execute_result"
    }
   ],
   "source": [
    "a == b"
   ]
  },
  {
   "cell_type": "code",
   "execution_count": 4,
   "metadata": {},
   "outputs": [
    {
     "data": {
      "text/plain": [
       "True"
      ]
     },
     "execution_count": 4,
     "metadata": {},
     "output_type": "execute_result"
    }
   ],
   "source": [
    "c = [1, 2, 3]\n",
    "d = [1, 2, 3]\n",
    "c == d"
   ]
  },
  {
   "cell_type": "code",
   "execution_count": 6,
   "metadata": {},
   "outputs": [
    {
     "ename": "SyntaxError",
     "evalue": "invalid syntax (<ipython-input-6-662f6b40f21d>, line 1)",
     "output_type": "error",
     "traceback": [
      "\u001b[0;36m  File \u001b[0;32m\"<ipython-input-6-662f6b40f21d>\"\u001b[0;36m, line \u001b[0;32m1\u001b[0m\n\u001b[0;31m    dig_matches_argument =  np.array([   6   16   26   34   58   65   66   67   82   88   95  104  106  136\u001b[0m\n\u001b[0m                                              ^\u001b[0m\n\u001b[0;31mSyntaxError\u001b[0m\u001b[0;31m:\u001b[0m invalid syntax\n"
     ]
    }
   ],
   "source": [
    "dig_matches_argument =  np.array([   6 ,  16   26   34   58   65   66   67   82   88   95  104  106  136\n",
    "  146  156  164  188  195  196  197  212  223  232  234  262  272  282\n",
    "  290  314  321  322  323  338  344  351  360  362  392  402  412  420\n",
    "  444  451  452  453  468  474  481  490  522  532  542  550  574  581\n",
    "  582  583  598  604  611  620  622  652  662  672  680  704  711  712\n",
    "  713  728  734  741  750  752  782  792  802  810  834  841  842  843\n",
    "  858  864  871  880  882  911  921  931  939  960  967  968  969  984\n",
    "  989  996 1005 1007 1035 1045 1055 1063 1085 1092 1093 1094 1109 1115\n",
    " 1122 1131 1133 1163 1173 1176 1183 1191 1215 1222 1223 1224 1239 1245\n",
    " 1252 1261 1263 1293 1303 1313 1321 1345 1352 1353 1354 1361 1369 1375\n",
    " 1382 1391 1393 1421 1431 1441 1449 1473 1480 1481 1482 1497 1503 1510\n",
    " 1519 1521 1551 1561 1569 1577 1601 1608 1609 1610 1623 1629 1636 1645\n",
    " 1647 1673 1683 1693 1701 1725 1732 1733 1734 1749 1755 1762 1771 1773])\n",
    "\n",
    "dig_list = np.array([   6   16   26   34   58   65   66   67   82   88   95  104  106  136\n",
    "  146  156  164  188  195  196  197  212  223  232  234  262  272  282\n",
    "  290  314  321  322  323  338  344  351  360  362  392  402  412  420\n",
    "  444  451  452  453  468  474  481  490  492  522  532  542  550  574\n",
    "  581  582  583  598  604  611  620  622  652  662  672  680  704  711\n",
    "  712  713  728  734  741  750  752  782  792  802  810  834  841  842\n",
    "  843  858  864  871  880  882  911  921  931  939  960  967  968  969\n",
    "  984  989  996 1005 1007 1035 1045 1055 1063 1085 1092 1093 1094 1109\n",
    " 1115 1122 1131 1133 1163 1173 1183 1191 1215 1222 1223 1224 1239 1245\n",
    " 1252 1261 1263 1293 1303 1313 1321 1345 1352 1353 1354 1369 1375 1382\n",
    " 1391 1393 1421 1431 1441 1449 1473 1480 1481 1482 1497 1503 1510 1519\n",
    " 1521 1551 1561 1569 1577 1601 1608 1609 1610 1623 1629 1636 1645 1647\n",
    " 1673 1683 1693 1701 1725 1732 1733 1734 1749 1755 1762 1771 1773])\n",
    "\n"
   ]
  },
  {
   "cell_type": "code",
   "execution_count": null,
   "metadata": {},
   "outputs": [],
   "source": []
  }
 ],
 "metadata": {
  "kernelspec": {
   "display_name": "Python 3",
   "language": "python",
   "name": "python3"
  },
  "language_info": {
   "codemirror_mode": {
    "name": "ipython",
    "version": 3
   },
   "file_extension": ".py",
   "mimetype": "text/x-python",
   "name": "python",
   "nbconvert_exporter": "python",
   "pygments_lexer": "ipython3",
   "version": "3.6.8"
  }
 },
 "nbformat": 4,
 "nbformat_minor": 2
}
